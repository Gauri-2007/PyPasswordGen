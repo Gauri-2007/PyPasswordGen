{
  "nbformat": 4,
  "nbformat_minor": 0,
  "metadata": {
    "colab": {
      "provenance": []
    },
    "kernelspec": {
      "name": "python3",
      "display_name": "Python 3"
    },
    "language_info": {
      "name": "python"
    }
  },
  "cells": [
    {
      "cell_type": "code",
      "execution_count": 9,
      "metadata": {
        "colab": {
          "base_uri": "https://localhost:8080/"
        },
        "id": "CYkPM6ZjLPCT",
        "outputId": "b801893b-8b9f-4f5f-cf58-3871e59ba44c"
      },
      "outputs": [
        {
          "output_type": "stream",
          "name": "stdout",
          "text": [
            "Strong PyPassword Generator\n",
            "How many characters in your password?15\n",
            "Here is your password fF4$:CQxGBuxN)k\n"
          ]
        }
      ],
      "source": [
        "#Password Generator in 10 Lines of Code\n",
        "\n",
        "import random\n",
        "import string\n",
        "print(\"Strong PyPassword Generator\")\n",
        "\n",
        "all_chars=string.ascii_letters+string.digits+string.punctuation   #Stores all the ASCII characters in a string.\n",
        "\n",
        "length=int(input(\"How many characters in your password?\"))        #Take input from user about length of password.\n",
        "\n",
        "generated_chars = random.choices(all_chars, k=length)             #Makes list of randomly generated characters.\n",
        "\n",
        "password=\"\"                                                       #Initialize using empty string.\n",
        "for char in generated_chars:\n",
        "    password+=char                                                #For loop combines the generated characters into a final string.\n",
        "\n",
        "print(\"Here is your password\", password)"
      ]
    },
    {
      "cell_type": "markdown",
      "source": [],
      "metadata": {
        "id": "fHgSs1e_Mjlu"
      }
    }
  ]
}